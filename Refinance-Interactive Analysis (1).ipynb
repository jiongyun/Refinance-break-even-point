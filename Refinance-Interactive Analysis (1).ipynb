{
 "cells": [
  {
   "cell_type": "code",
   "execution_count": 10,
   "metadata": {},
   "outputs": [],
   "source": [
    "# packages\n",
    "import pandas as pd\n",
    "import numpy as np\n",
    "import matplotlib.pyplot as plt\n",
    "import seaborn as sns\n",
    "from matplotlib.ticker import FuncFormatter\n",
    "\n",
    "import requests\n",
    "from bs4 import BeautifulSoup\n",
    "\n",
    "import ipywidgets as widgets\n",
    "from IPython.display import display\n",
    "from IPython.display import clear_output\n",
    "import plotly.express as px"
   ]
  },
  {
   "cell_type": "code",
   "execution_count": 11,
   "metadata": {},
   "outputs": [],
   "source": [
    "def lovely_soup(url):\n",
    "    r = requests.get(url)\n",
    "    soup = BeautifulSoup(r.text, 'html.parser')\n",
    "    return soup"
   ]
  },
  {
   "cell_type": "code",
   "execution_count": 12,
   "metadata": {},
   "outputs": [],
   "source": [
    "def thousands_formatter(x, pos):\n",
    "    return f'{x/1000:.0f}K'"
   ]
  },
  {
   "cell_type": "markdown",
   "metadata": {},
   "source": [
    "# 1 Data\n",
    "---\n",
    "**Description**\n",
    "| Column                      | Description                                         |\n",
    "|-----------------------------|-----------------------------------------------------|\n",
    "| Property                    | Identifier for the property.             |\n",
    "| Current Monthly Payment     | Current monthly payment for the mortgage.|\n",
    "| Current Loan Interest Rate (%) | Current interest rate for the mortgage.|\n",
    "| Balance Left on Mortgage ($)| Outstanding balance on the mortgage.     |\n",
    "| New Interest Rate (%)       | Proposed new interest rate if the mortgage is refinanced.|\n",
    "| Remaining Loan Term (months)| Remaining term of the current mortgage in months. |\n",
    "| New Loan Term (months)      | Proposed new term in months if the mortgage is refinanced. |\n",
    "| Closing Cost ($)            | The cost associated with refinancing the mortgage.  |\n"
   ]
  },
  {
   "cell_type": "code",
   "execution_count": 13,
   "metadata": {},
   "outputs": [
    {
     "ename": "FileNotFoundError",
     "evalue": "[Errno 2] No such file or directory: 'Refinance model data.xlsx'",
     "output_type": "error",
     "traceback": [
      "\u001b[0;31m---------------------------------------------------------------------------\u001b[0m",
      "\u001b[0;31mFileNotFoundError\u001b[0m                         Traceback (most recent call last)",
      "Cell \u001b[0;32mIn[13], line 1\u001b[0m\n\u001b[0;32m----> 1\u001b[0m data \u001b[39m=\u001b[39m pd\u001b[39m.\u001b[39;49mread_excel(\u001b[39m'\u001b[39;49m\u001b[39mRefinance model data.xlsx\u001b[39;49m\u001b[39m'\u001b[39;49m)\n\u001b[1;32m      2\u001b[0m data\u001b[39m.\u001b[39miloc[:, \u001b[39m1\u001b[39m:] \u001b[39m=\u001b[39m data\u001b[39m.\u001b[39miloc[:, \u001b[39m1\u001b[39m:]\u001b[39m.\u001b[39mapply(pd\u001b[39m.\u001b[39mto_numeric, errors \u001b[39m=\u001b[39m \u001b[39m'\u001b[39m\u001b[39mcoerce\u001b[39m\u001b[39m'\u001b[39m)\n\u001b[1;32m      3\u001b[0m data \u001b[39m=\u001b[39m data\u001b[39m.\u001b[39mdropna()\n",
      "File \u001b[0;32m~/Desktop/refinance/Refinance-break-even-point/env/lib/python3.8/site-packages/pandas/io/excel/_base.py:478\u001b[0m, in \u001b[0;36mread_excel\u001b[0;34m(io, sheet_name, header, names, index_col, usecols, dtype, engine, converters, true_values, false_values, skiprows, nrows, na_values, keep_default_na, na_filter, verbose, parse_dates, date_parser, date_format, thousands, decimal, comment, skipfooter, storage_options, dtype_backend)\u001b[0m\n\u001b[1;32m    476\u001b[0m \u001b[39mif\u001b[39;00m \u001b[39mnot\u001b[39;00m \u001b[39misinstance\u001b[39m(io, ExcelFile):\n\u001b[1;32m    477\u001b[0m     should_close \u001b[39m=\u001b[39m \u001b[39mTrue\u001b[39;00m\n\u001b[0;32m--> 478\u001b[0m     io \u001b[39m=\u001b[39m ExcelFile(io, storage_options\u001b[39m=\u001b[39;49mstorage_options, engine\u001b[39m=\u001b[39;49mengine)\n\u001b[1;32m    479\u001b[0m \u001b[39melif\u001b[39;00m engine \u001b[39mand\u001b[39;00m engine \u001b[39m!=\u001b[39m io\u001b[39m.\u001b[39mengine:\n\u001b[1;32m    480\u001b[0m     \u001b[39mraise\u001b[39;00m \u001b[39mValueError\u001b[39;00m(\n\u001b[1;32m    481\u001b[0m         \u001b[39m\"\u001b[39m\u001b[39mEngine should not be specified when passing \u001b[39m\u001b[39m\"\u001b[39m\n\u001b[1;32m    482\u001b[0m         \u001b[39m\"\u001b[39m\u001b[39man ExcelFile - ExcelFile already has the engine set\u001b[39m\u001b[39m\"\u001b[39m\n\u001b[1;32m    483\u001b[0m     )\n",
      "File \u001b[0;32m~/Desktop/refinance/Refinance-break-even-point/env/lib/python3.8/site-packages/pandas/io/excel/_base.py:1496\u001b[0m, in \u001b[0;36mExcelFile.__init__\u001b[0;34m(self, path_or_buffer, engine, storage_options)\u001b[0m\n\u001b[1;32m   1494\u001b[0m     ext \u001b[39m=\u001b[39m \u001b[39m\"\u001b[39m\u001b[39mxls\u001b[39m\u001b[39m\"\u001b[39m\n\u001b[1;32m   1495\u001b[0m \u001b[39melse\u001b[39;00m:\n\u001b[0;32m-> 1496\u001b[0m     ext \u001b[39m=\u001b[39m inspect_excel_format(\n\u001b[1;32m   1497\u001b[0m         content_or_path\u001b[39m=\u001b[39;49mpath_or_buffer, storage_options\u001b[39m=\u001b[39;49mstorage_options\n\u001b[1;32m   1498\u001b[0m     )\n\u001b[1;32m   1499\u001b[0m     \u001b[39mif\u001b[39;00m ext \u001b[39mis\u001b[39;00m \u001b[39mNone\u001b[39;00m:\n\u001b[1;32m   1500\u001b[0m         \u001b[39mraise\u001b[39;00m \u001b[39mValueError\u001b[39;00m(\n\u001b[1;32m   1501\u001b[0m             \u001b[39m\"\u001b[39m\u001b[39mExcel file format cannot be determined, you must specify \u001b[39m\u001b[39m\"\u001b[39m\n\u001b[1;32m   1502\u001b[0m             \u001b[39m\"\u001b[39m\u001b[39man engine manually.\u001b[39m\u001b[39m\"\u001b[39m\n\u001b[1;32m   1503\u001b[0m         )\n",
      "File \u001b[0;32m~/Desktop/refinance/Refinance-break-even-point/env/lib/python3.8/site-packages/pandas/io/excel/_base.py:1371\u001b[0m, in \u001b[0;36minspect_excel_format\u001b[0;34m(content_or_path, storage_options)\u001b[0m\n\u001b[1;32m   1368\u001b[0m \u001b[39mif\u001b[39;00m \u001b[39misinstance\u001b[39m(content_or_path, \u001b[39mbytes\u001b[39m):\n\u001b[1;32m   1369\u001b[0m     content_or_path \u001b[39m=\u001b[39m BytesIO(content_or_path)\n\u001b[0;32m-> 1371\u001b[0m \u001b[39mwith\u001b[39;00m get_handle(\n\u001b[1;32m   1372\u001b[0m     content_or_path, \u001b[39m\"\u001b[39;49m\u001b[39mrb\u001b[39;49m\u001b[39m\"\u001b[39;49m, storage_options\u001b[39m=\u001b[39;49mstorage_options, is_text\u001b[39m=\u001b[39;49m\u001b[39mFalse\u001b[39;49;00m\n\u001b[1;32m   1373\u001b[0m ) \u001b[39mas\u001b[39;00m handle:\n\u001b[1;32m   1374\u001b[0m     stream \u001b[39m=\u001b[39m handle\u001b[39m.\u001b[39mhandle\n\u001b[1;32m   1375\u001b[0m     stream\u001b[39m.\u001b[39mseek(\u001b[39m0\u001b[39m)\n",
      "File \u001b[0;32m~/Desktop/refinance/Refinance-break-even-point/env/lib/python3.8/site-packages/pandas/io/common.py:868\u001b[0m, in \u001b[0;36mget_handle\u001b[0;34m(path_or_buf, mode, encoding, compression, memory_map, is_text, errors, storage_options)\u001b[0m\n\u001b[1;32m    859\u001b[0m         handle \u001b[39m=\u001b[39m \u001b[39mopen\u001b[39m(\n\u001b[1;32m    860\u001b[0m             handle,\n\u001b[1;32m    861\u001b[0m             ioargs\u001b[39m.\u001b[39mmode,\n\u001b[0;32m   (...)\u001b[0m\n\u001b[1;32m    864\u001b[0m             newline\u001b[39m=\u001b[39m\u001b[39m\"\u001b[39m\u001b[39m\"\u001b[39m,\n\u001b[1;32m    865\u001b[0m         )\n\u001b[1;32m    866\u001b[0m     \u001b[39melse\u001b[39;00m:\n\u001b[1;32m    867\u001b[0m         \u001b[39m# Binary mode\u001b[39;00m\n\u001b[0;32m--> 868\u001b[0m         handle \u001b[39m=\u001b[39m \u001b[39mopen\u001b[39;49m(handle, ioargs\u001b[39m.\u001b[39;49mmode)\n\u001b[1;32m    869\u001b[0m     handles\u001b[39m.\u001b[39mappend(handle)\n\u001b[1;32m    871\u001b[0m \u001b[39m# Convert BytesIO or file objects passed with an encoding\u001b[39;00m\n",
      "\u001b[0;31mFileNotFoundError\u001b[0m: [Errno 2] No such file or directory: 'Refinance model data.xlsx'"
     ]
    }
   ],
   "source": [
    "data = pd.read_excel('Refinance model data.xlsx')\n",
    "data.iloc[:, 1:] = data.iloc[:, 1:].apply(pd.to_numeric, errors = 'coerce')\n",
    "data = data.dropna()\n",
    "data.head()"
   ]
  },
  {
   "cell_type": "code",
   "execution_count": null,
   "metadata": {},
   "outputs": [
    {
     "name": "stdout",
     "output_type": "stream",
     "text": [
      "<class 'pandas.core.frame.DataFrame'>\n",
      "Index: 29 entries, 0 to 29\n",
      "Data columns (total 8 columns):\n",
      " #   Column                          Non-Null Count  Dtype  \n",
      "---  ------                          --------------  -----  \n",
      " 0   Property                        29 non-null     object \n",
      " 1   Current Monthly Payment         29 non-null     int64  \n",
      " 2   Current Loan Interest Rate (%)  29 non-null     float64\n",
      " 3   Balance Left on Mortgage ($)    29 non-null     int64  \n",
      " 4   New Interest Rate (%)           29 non-null     float64\n",
      " 5   Remaining Loan Term (months)    29 non-null     object \n",
      " 6   New Loan Term (months)          29 non-null     int64  \n",
      " 7   Closing Cost ($)                29 non-null     int64  \n",
      "dtypes: float64(2), int64(4), object(2)\n",
      "memory usage: 2.0+ KB\n"
     ]
    }
   ],
   "source": [
    "data.info()"
   ]
  },
  {
   "cell_type": "code",
   "execution_count": null,
   "metadata": {},
   "outputs": [
    {
     "data": {
      "text/html": [
       "<div>\n",
       "<style scoped>\n",
       "    .dataframe tbody tr th:only-of-type {\n",
       "        vertical-align: middle;\n",
       "    }\n",
       "\n",
       "    .dataframe tbody tr th {\n",
       "        vertical-align: top;\n",
       "    }\n",
       "\n",
       "    .dataframe thead th {\n",
       "        text-align: right;\n",
       "    }\n",
       "</style>\n",
       "<table border=\"1\" class=\"dataframe\">\n",
       "  <thead>\n",
       "    <tr style=\"text-align: right;\">\n",
       "      <th></th>\n",
       "      <th>Current Monthly Payment</th>\n",
       "      <th>Current Loan Interest Rate (%)</th>\n",
       "      <th>Balance Left on Mortgage ($)</th>\n",
       "      <th>New Interest Rate (%)</th>\n",
       "      <th>New Loan Term (months)</th>\n",
       "      <th>Closing Cost ($)</th>\n",
       "    </tr>\n",
       "  </thead>\n",
       "  <tbody>\n",
       "    <tr>\n",
       "      <th>count</th>\n",
       "      <td>29.000000</td>\n",
       "      <td>29.000000</td>\n",
       "      <td>29.000000</td>\n",
       "      <td>29.000000</td>\n",
       "      <td>29.000000</td>\n",
       "      <td>29.000000</td>\n",
       "    </tr>\n",
       "    <tr>\n",
       "      <th>mean</th>\n",
       "      <td>2331.034483</td>\n",
       "      <td>4.107759</td>\n",
       "      <td>280344.827586</td>\n",
       "      <td>3.599138</td>\n",
       "      <td>277.241379</td>\n",
       "      <td>5948.275862</td>\n",
       "    </tr>\n",
       "    <tr>\n",
       "      <th>std</th>\n",
       "      <td>504.340764</td>\n",
       "      <td>0.400508</td>\n",
       "      <td>93407.049238</td>\n",
       "      <td>0.360399</td>\n",
       "      <td>58.730410</td>\n",
       "      <td>1799.527853</td>\n",
       "    </tr>\n",
       "    <tr>\n",
       "      <th>min</th>\n",
       "      <td>1500.000000</td>\n",
       "      <td>3.500000</td>\n",
       "      <td>150000.000000</td>\n",
       "      <td>3.000000</td>\n",
       "      <td>180.000000</td>\n",
       "      <td>3500.000000</td>\n",
       "    </tr>\n",
       "    <tr>\n",
       "      <th>25%</th>\n",
       "      <td>1900.000000</td>\n",
       "      <td>3.875000</td>\n",
       "      <td>200000.000000</td>\n",
       "      <td>3.250000</td>\n",
       "      <td>240.000000</td>\n",
       "      <td>4500.000000</td>\n",
       "    </tr>\n",
       "    <tr>\n",
       "      <th>50%</th>\n",
       "      <td>2400.000000</td>\n",
       "      <td>4.000000</td>\n",
       "      <td>260000.000000</td>\n",
       "      <td>3.500000</td>\n",
       "      <td>300.000000</td>\n",
       "      <td>6000.000000</td>\n",
       "    </tr>\n",
       "    <tr>\n",
       "      <th>75%</th>\n",
       "      <td>2700.000000</td>\n",
       "      <td>4.250000</td>\n",
       "      <td>350000.000000</td>\n",
       "      <td>3.875000</td>\n",
       "      <td>300.000000</td>\n",
       "      <td>7500.000000</td>\n",
       "    </tr>\n",
       "    <tr>\n",
       "      <th>max</th>\n",
       "      <td>3200.000000</td>\n",
       "      <td>5.000000</td>\n",
       "      <td>500000.000000</td>\n",
       "      <td>4.250000</td>\n",
       "      <td>360.000000</td>\n",
       "      <td>10000.000000</td>\n",
       "    </tr>\n",
       "  </tbody>\n",
       "</table>\n",
       "</div>"
      ],
      "text/plain": [
       "       Current Monthly Payment  Current Loan Interest Rate (%)  \\\n",
       "count                29.000000                       29.000000   \n",
       "mean               2331.034483                        4.107759   \n",
       "std                 504.340764                        0.400508   \n",
       "min                1500.000000                        3.500000   \n",
       "25%                1900.000000                        3.875000   \n",
       "50%                2400.000000                        4.000000   \n",
       "75%                2700.000000                        4.250000   \n",
       "max                3200.000000                        5.000000   \n",
       "\n",
       "       Balance Left on Mortgage ($)  New Interest Rate (%)  \\\n",
       "count                     29.000000              29.000000   \n",
       "mean                  280344.827586               3.599138   \n",
       "std                    93407.049238               0.360399   \n",
       "min                   150000.000000               3.000000   \n",
       "25%                   200000.000000               3.250000   \n",
       "50%                   260000.000000               3.500000   \n",
       "75%                   350000.000000               3.875000   \n",
       "max                   500000.000000               4.250000   \n",
       "\n",
       "       New Loan Term (months)  Closing Cost ($)  \n",
       "count               29.000000         29.000000  \n",
       "mean               277.241379       5948.275862  \n",
       "std                 58.730410       1799.527853  \n",
       "min                180.000000       3500.000000  \n",
       "25%                240.000000       4500.000000  \n",
       "50%                300.000000       6000.000000  \n",
       "75%                300.000000       7500.000000  \n",
       "max                360.000000      10000.000000  "
      ]
     },
     "execution_count": 8,
     "metadata": {},
     "output_type": "execute_result"
    }
   ],
   "source": [
    "data.describe()"
   ]
  },
  {
   "cell_type": "markdown",
   "metadata": {},
   "source": [
    "# 2 Preparation"
   ]
  },
  {
   "cell_type": "markdown",
   "metadata": {},
   "source": [
    "## 2.1 Functions"
   ]
  },
  {
   "cell_type": "markdown",
   "metadata": {},
   "source": [
    "### Break Even Point Analysis\n",
    "**Note**\n",
    "- Only for thoes who want to lower their monthly payment.\n",
    "  \n",
    "---\n",
    "\n",
    "  \n",
    "1. Monthly Payment\n",
    "The monthly payment is calculated using the following formula:  \n",
    "\n",
    "<center>\n",
    "\n",
    "$M = P \\frac{r(1 + r)^n}{(1+r)^n - 1} $\n",
    "\n",
    "</center>\n",
    "\n",
    "where $M$ is the monthly payment, $P$ is the principal (Outstanding balance), $r$ is the monthly interest rate, and $n$ is the number of months.\n",
    "\n",
    "2. Outstanding Balance\n",
    "The outstanding balance is calculated using the following formula:\n",
    "\n",
    "<center>\n",
    "\n",
    "Outstanding Balance $= P \\times (1 + r)^{(N-n)} - M \\times \\frac{(1 + r)^{(N-n)} - 1}{r} $\n",
    "\n",
    "</center>\n"
   ]
  },
  {
   "cell_type": "code",
   "execution_count": null,
   "metadata": {},
   "outputs": [],
   "source": [
    "def mortgage_refinance_calculation(p, r, N, n, new_r, new_n, c, co):\n",
    "    '''\n",
    "    This function calculates and provides the break-even point, monthly savings, and new payment details, considering the closing costs and any cash-out during refinancing.\n",
    "    \n",
    "    Returns:\n",
    "    - break_even_point : Number of months it will take to recoup the closing costs from monthly savings.\n",
    "    - monthly_savings : Difference in monthly payment between the current and refinanced loan.\n",
    "    - outstanding_principal_balance_adjusted : Adjusted outstanding principal balance after considering the cash-out amount.\n",
    "    - current_monthly_payment : Monthly payment amount for the current loan.\n",
    "    - new_monthly_payment : Monthly payment amount for the refinanced loan without considering the cash-out.\n",
    "    - new_monthly_payment_adjusted : Monthly payment amount for the refinanced loan after considering the cash-out.\n",
    "\n",
    "    '''\n",
    "\n",
    "    \n",
    "    if N is None:\n",
    "        N = n\n",
    "    if n is None:\n",
    "        n = N\n",
    "    \n",
    "    principal = p  # Principal amount\n",
    "    current_interest_rate = r  # Current interest rate\n",
    "    current_total_term = N  # Current total term\n",
    "    current_remaining_term = n  # Current remaining term\n",
    "    new_interest_rate = new_r  # New interest rate\n",
    "    new_remaining_term = new_n  # New remaining term\n",
    "    closing_cost = c  # Closing cost\n",
    "    cash_out = co  # Cash out amount\n",
    "    \n",
    "    # Monthly Payment for Current Mortgage\n",
    "    current_monthly_interest_rate = current_interest_rate / 12 / 100\n",
    "    current_monthly_payment = principal * current_monthly_interest_rate * (1 + current_monthly_interest_rate) ** current_total_term / ((1 + current_monthly_interest_rate) ** current_total_term - 1)\n",
    "    \n",
    "    # Outstanding Principal Balance\n",
    "    outstanding_principal_balance = principal * (1 + current_monthly_interest_rate) ** (current_total_term - current_remaining_term) - (current_monthly_payment * ((1 + current_monthly_interest_rate) ** (current_total_term - current_remaining_term) - 1) / current_monthly_interest_rate)\n",
    "    outstanding_principal_balance_adjusted = outstanding_principal_balance + cash_out\n",
    "    \n",
    "    # Monthly Payment for New Mortgage\n",
    "    # new_monthly_payment: x cash_out\n",
    "    new_monthly_interest_rate = new_interest_rate / 12 / 100\n",
    "    new_monthly_payment = outstanding_principal_balance * new_monthly_interest_rate * (1 + new_monthly_interest_rate) ** new_remaining_term / ((1 + new_monthly_interest_rate) ** new_remaining_term - 1)\n",
    "    new_monthly_payment_adjusted = outstanding_principal_balance_adjusted * new_monthly_interest_rate * (1 + new_monthly_interest_rate) ** new_remaining_term / ((1 + new_monthly_interest_rate) ** new_remaining_term - 1)\n",
    "    \n",
    "    # Monthly Payment Savings\n",
    "    monthly_savings = current_monthly_payment - new_monthly_payment\n",
    "    \n",
    "    # Break Even Point\n",
    "    break_even_point = closing_cost / monthly_savings\n",
    "    return {\n",
    "        'break_even_point': break_even_point,\n",
    "        'monthly_savings': monthly_savings,\n",
    "        'outstanding_principal_balance_adjusted': outstanding_principal_balance_adjusted, # v cash out\n",
    "        'current_monthly_payment': current_monthly_payment,\n",
    "        'new_monthly_payment': new_monthly_payment, # x cash out\n",
    "        'new_monthly_payment_adjusted': new_monthly_payment_adjusted # v cash out\n",
    "    }"
   ]
  },
  {
   "cell_type": "code",
   "execution_count": null,
   "metadata": {},
   "outputs": [],
   "source": [
    "data[['Break Even Point', 'Monthly Savings', 'Current Monthly Payment', 'New Monthly Payment']] = data.apply(lambda x: pd.Series(mortgage_refinance_calculation(\n",
    "    x['Balance Left on Mortgage ($)'], \n",
    "    x['Current Loan Interest Rate (%)'], x['Remaining Loan Term (months)'], None, \n",
    "    x['New Interest Rate (%)'], x['New Loan Term (months)'], \n",
    "    x['Closing Cost ($)'], 0)), axis=1)[['break_even_point', 'monthly_savings', 'current_monthly_payment', 'new_monthly_payment_adjusted']]"
   ]
  },
  {
   "cell_type": "code",
   "execution_count": null,
   "metadata": {},
   "outputs": [
    {
     "data": {
      "text/html": [
       "<div>\n",
       "<style scoped>\n",
       "    .dataframe tbody tr th:only-of-type {\n",
       "        vertical-align: middle;\n",
       "    }\n",
       "\n",
       "    .dataframe tbody tr th {\n",
       "        vertical-align: top;\n",
       "    }\n",
       "\n",
       "    .dataframe thead th {\n",
       "        text-align: right;\n",
       "    }\n",
       "</style>\n",
       "<table border=\"1\" class=\"dataframe\">\n",
       "  <thead>\n",
       "    <tr style=\"text-align: right;\">\n",
       "      <th></th>\n",
       "      <th>Property</th>\n",
       "      <th>Current Monthly Payment</th>\n",
       "      <th>Current Loan Interest Rate (%)</th>\n",
       "      <th>Balance Left on Mortgage ($)</th>\n",
       "      <th>New Interest Rate (%)</th>\n",
       "      <th>Remaining Loan Term (months)</th>\n",
       "      <th>New Loan Term (months)</th>\n",
       "      <th>Closing Cost ($)</th>\n",
       "      <th>Break Even Point</th>\n",
       "      <th>Monthly Savings</th>\n",
       "      <th>New Monthly Payment</th>\n",
       "    </tr>\n",
       "  </thead>\n",
       "  <tbody>\n",
       "    <tr>\n",
       "      <th>0</th>\n",
       "      <td>Property A</td>\n",
       "      <td>1897.948129</td>\n",
       "      <td>4.50</td>\n",
       "      <td>300000</td>\n",
       "      <td>3.750</td>\n",
       "      <td>240.0</td>\n",
       "      <td>240</td>\n",
       "      <td>6000</td>\n",
       "      <td>50.300468</td>\n",
       "      <td>119.283184</td>\n",
       "      <td>1778.664945</td>\n",
       "    </tr>\n",
       "    <tr>\n",
       "      <th>1</th>\n",
       "      <td>Property B</td>\n",
       "      <td>1581.587253</td>\n",
       "      <td>5.00</td>\n",
       "      <td>200000</td>\n",
       "      <td>4.250</td>\n",
       "      <td>180.0</td>\n",
       "      <td>240</td>\n",
       "      <td>4500</td>\n",
       "      <td>13.115010</td>\n",
       "      <td>343.118315</td>\n",
       "      <td>1238.468938</td>\n",
       "    </tr>\n",
       "    <tr>\n",
       "      <th>2</th>\n",
       "      <td>Property C</td>\n",
       "      <td>1852.462366</td>\n",
       "      <td>3.75</td>\n",
       "      <td>400000</td>\n",
       "      <td>3.500</td>\n",
       "      <td>360.0</td>\n",
       "      <td>300</td>\n",
       "      <td>7500</td>\n",
       "      <td>-49.989364</td>\n",
       "      <td>-150.031915</td>\n",
       "      <td>2002.494281</td>\n",
       "    </tr>\n",
       "    <tr>\n",
       "      <th>3</th>\n",
       "      <td>Property D</td>\n",
       "      <td>1548.086173</td>\n",
       "      <td>4.25</td>\n",
       "      <td>250000</td>\n",
       "      <td>3.875</td>\n",
       "      <td>240.0</td>\n",
       "      <td>240</td>\n",
       "      <td>5000</td>\n",
       "      <td>100.905653</td>\n",
       "      <td>49.551238</td>\n",
       "      <td>1498.534935</td>\n",
       "    </tr>\n",
       "    <tr>\n",
       "      <th>4</th>\n",
       "      <td>Property E</td>\n",
       "      <td>1670.953534</td>\n",
       "      <td>4.00</td>\n",
       "      <td>350000</td>\n",
       "      <td>3.250</td>\n",
       "      <td>360.0</td>\n",
       "      <td>360</td>\n",
       "      <td>8000</td>\n",
       "      <td>54.152327</td>\n",
       "      <td>147.731417</td>\n",
       "      <td>1523.222117</td>\n",
       "    </tr>\n",
       "  </tbody>\n",
       "</table>\n",
       "</div>"
      ],
      "text/plain": [
       "     Property  Current Monthly Payment  Current Loan Interest Rate (%)  \\\n",
       "0  Property A              1897.948129                            4.50   \n",
       "1  Property B              1581.587253                            5.00   \n",
       "2  Property C              1852.462366                            3.75   \n",
       "3  Property D              1548.086173                            4.25   \n",
       "4  Property E              1670.953534                            4.00   \n",
       "\n",
       "   Balance Left on Mortgage ($)  New Interest Rate (%)  \\\n",
       "0                        300000                  3.750   \n",
       "1                        200000                  4.250   \n",
       "2                        400000                  3.500   \n",
       "3                        250000                  3.875   \n",
       "4                        350000                  3.250   \n",
       "\n",
       "  Remaining Loan Term (months)  New Loan Term (months)  Closing Cost ($)  \\\n",
       "0                        240.0                     240              6000   \n",
       "1                        180.0                     240              4500   \n",
       "2                        360.0                     300              7500   \n",
       "3                        240.0                     240              5000   \n",
       "4                        360.0                     360              8000   \n",
       "\n",
       "   Break Even Point  Monthly Savings  New Monthly Payment  \n",
       "0         50.300468       119.283184          1778.664945  \n",
       "1         13.115010       343.118315          1238.468938  \n",
       "2        -49.989364      -150.031915          2002.494281  \n",
       "3        100.905653        49.551238          1498.534935  \n",
       "4         54.152327       147.731417          1523.222117  "
      ]
     },
     "execution_count": 11,
     "metadata": {},
     "output_type": "execute_result"
    }
   ],
   "source": [
    "data.head()"
   ]
  },
  {
   "cell_type": "markdown",
   "metadata": {},
   "source": [
    "### Cumulative Savings Calculation"
   ]
  },
  {
   "cell_type": "code",
   "execution_count": null,
   "metadata": {},
   "outputs": [],
   "source": [
    "url = \"https://home.treasury.gov/resource-center/data-chart-center/interest-rates/TextView?type=daily_treasury_yield_curve&field_tdr_date_value_month=202307\"\n",
    "soup = lovely_soup(url)\n",
    "ten_year_rates_elements = soup.find_all('td', headers = \"view-field-bc-10year-table-column\")\n",
    "discount_rate = float(ten_year_rates_elements[-1].text.strip()) if ten_year_rates_elements else None"
   ]
  },
  {
   "cell_type": "code",
   "execution_count": null,
   "metadata": {},
   "outputs": [],
   "source": [
    "def mortgage_refinance_total_costs_calculation(p, r, N, n, new_r, new_n, c, co, discount_rate):\n",
    "    \n",
    "    '''\n",
    "    Calculate the nominal and present value (PV) costs of maintaining the current mortgage\n",
    "    versus the costs of refinancing, considering a given discount rate.\n",
    "    \n",
    "    Returns:\n",
    "    A dictionary containing the nominal and PV costs with and without refinancing, \n",
    "    and the respective savings.\n",
    "    \n",
    "    Note:\n",
    "    - Assuming the closing cost is paid in advance\n",
    "    - Doesn't take into account cash out\n",
    "    '''\n",
    "    \n",
    "    # break even point, monthly savings, current monthly payment, new monthly payment\n",
    "    refinance_results = mortgage_refinance_calculation(p, r, N, n, new_r, new_n, c, co)\n",
    "    current_monthly_payment = refinance_results['current_monthly_payment']\n",
    "    new_monthly_payment = refinance_results['new_monthly_payment']\n",
    "    current_remaining_term = n\n",
    "    new_remaining_term = new_n\n",
    "    closing_cost = c\n",
    "    monthly_discount_rate = (1 + discount_rate) ** (1/12) - 1\n",
    "    \n",
    "    # Nominal Total Cost for Current Mortgage\n",
    "    current_nominal_total_costs = current_monthly_payment * current_remaining_term\n",
    "    # Nominal Total Cost for New Mortgage\n",
    "    new_nominal_total_costs = new_monthly_payment * new_remaining_term + closing_cost\n",
    "    # Nominal Total Cost Savings\n",
    "    nominal_total_costs_savings = current_nominal_total_costs - new_nominal_total_costs\n",
    "    \n",
    "    # PV Total Cost for Current Mortgage\n",
    "    current_pv_total_costs = sum([current_monthly_payment / ((1 + monthly_discount_rate) ** month) for month in range(1, current_remaining_term + 1)])\n",
    "    # PV Total Cost for New Mortgage\n",
    "    new_pv_total_costs = sum([new_monthly_payment / ((1 + monthly_discount_rate) ** month) for month in range(1, new_remaining_term + 1)]) + closing_cost\n",
    "    # PV Total Cost Savings\n",
    "    pv_total_costs_savings = current_pv_total_costs - new_pv_total_costs\n",
    "    \n",
    "    return{\n",
    "        'Nominal Cost without Refinance': current_nominal_total_costs,\n",
    "        'Nominal Cost with Refinance': new_nominal_total_costs,\n",
    "        'Nominal Savings': nominal_total_costs_savings,\n",
    "        'PV Cost without Refinance': current_pv_total_costs,\n",
    "        'PV Cost with Refinance': new_pv_total_costs,\n",
    "        'PV Savings': pv_total_costs_savings\n",
    "    }\n",
    "    "
   ]
  },
  {
   "cell_type": "markdown",
   "metadata": {},
   "source": [
    "### Mortgage Rates"
   ]
  },
  {
   "cell_type": "code",
   "execution_count": null,
   "metadata": {},
   "outputs": [],
   "source": [
    "# The Mortgage News Daily rate index is published daily (weekdays) around 4PM EST\n",
    "url = 'https://www.mortgagenewsdaily.com/mortgage-rates'\n",
    "soup = lovely_soup(url)\n",
    "rate_div= soup.find_all('div', class_ = 'col-sm-4 col-xs-12 rate-product')\n",
    "rate_type_div = soup.find_all('div', class_ = 'rate-product-name hidden-xs')\n",
    "rates = []\n",
    "rate_types = []\n",
    "for div in rate_div:\n",
    "    rate = div.find('div', class_='rate')\n",
    "    if rate is not None:\n",
    "        rates.append(rate.text.strip())\n",
    "for div in rate_type_div:\n",
    "    rate_type = div.a.text.strip()\n",
    "    rate_types.append(rate_type)\n",
    "rate_df = pd.DataFrame({'rate_type': rate_types, 'rate': rates})"
   ]
  },
  {
   "cell_type": "code",
   "execution_count": null,
   "metadata": {},
   "outputs": [
    {
     "data": {
      "text/html": [
       "<div>\n",
       "<style scoped>\n",
       "    .dataframe tbody tr th:only-of-type {\n",
       "        vertical-align: middle;\n",
       "    }\n",
       "\n",
       "    .dataframe tbody tr th {\n",
       "        vertical-align: top;\n",
       "    }\n",
       "\n",
       "    .dataframe thead th {\n",
       "        text-align: right;\n",
       "    }\n",
       "</style>\n",
       "<table border=\"1\" class=\"dataframe\">\n",
       "  <thead>\n",
       "    <tr style=\"text-align: right;\">\n",
       "      <th></th>\n",
       "      <th>rate_type</th>\n",
       "      <th>rate</th>\n",
       "    </tr>\n",
       "  </thead>\n",
       "  <tbody>\n",
       "    <tr>\n",
       "      <th>0</th>\n",
       "      <td>30 Yr. Fixed</td>\n",
       "      <td>7.00%</td>\n",
       "    </tr>\n",
       "    <tr>\n",
       "      <th>1</th>\n",
       "      <td>15 Yr. Fixed</td>\n",
       "      <td>6.37%</td>\n",
       "    </tr>\n",
       "    <tr>\n",
       "      <th>2</th>\n",
       "      <td>30 Yr. Jumbo</td>\n",
       "      <td>6.98%</td>\n",
       "    </tr>\n",
       "    <tr>\n",
       "      <th>3</th>\n",
       "      <td>5/1 ARM</td>\n",
       "      <td>6.95%</td>\n",
       "    </tr>\n",
       "    <tr>\n",
       "      <th>4</th>\n",
       "      <td>30 Yr. FHA</td>\n",
       "      <td>6.60%</td>\n",
       "    </tr>\n",
       "    <tr>\n",
       "      <th>5</th>\n",
       "      <td>30 Yr. VA</td>\n",
       "      <td>6.59%</td>\n",
       "    </tr>\n",
       "  </tbody>\n",
       "</table>\n",
       "</div>"
      ],
      "text/plain": [
       "      rate_type   rate\n",
       "0  30 Yr. Fixed  7.00%\n",
       "1  15 Yr. Fixed  6.37%\n",
       "2  30 Yr. Jumbo  6.98%\n",
       "3       5/1 ARM  6.95%\n",
       "4    30 Yr. FHA  6.60%\n",
       "5     30 Yr. VA  6.59%"
      ]
     },
     "execution_count": 15,
     "metadata": {},
     "output_type": "execute_result"
    }
   ],
   "source": [
    "rate_df"
   ]
  },
  {
   "cell_type": "markdown",
   "metadata": {},
   "source": [
    "### Amortization_Schedule"
   ]
  },
  {
   "cell_type": "code",
   "execution_count": null,
   "metadata": {},
   "outputs": [],
   "source": [
    "def loan_amortization_schedule(principal, rate, term):\n",
    "    \n",
    "    '''\n",
    "    Generate an amortization schedule for a loan given the principal amount, interest rate, and term.\n",
    "\n",
    "    Returns:\n",
    "    A DataFrame containing the amortization schedule, monthly outstanding principal,\n",
    "    monthly payments, principal and interest components of the payment, \n",
    "    and cumulative payments over the term of the loan.\n",
    "    '''\n",
    "    \n",
    "    monthly_interest_rate = rate / 12 / 100\n",
    "    monthly_payment = principal * monthly_interest_rate * (1 + monthly_interest_rate) ** term / ((1 + monthly_interest_rate) ** term - 1)\n",
    "    \n",
    "    outstanding_principal = principal\n",
    "    records = []\n",
    "    cumulative_principal_payment = 0\n",
    "    cumulative_interest_payment = 0 \n",
    "    \n",
    "    for month in range(1, term + 1):\n",
    "        interest_payment = outstanding_principal * monthly_interest_rate\n",
    "        principal_payment = monthly_payment - interest_payment\n",
    "        cumulative_principal_payment += principal_payment\n",
    "        cumulative_interest_payment += interest_payment\n",
    "        cumulative_payment = cumulative_principal_payment + cumulative_interest_payment\n",
    "        outstanding_principal -= principal_payment\n",
    "        records.append([month, outstanding_principal, monthly_payment, principal_payment, interest_payment, \n",
    "                        cumulative_principal_payment, cumulative_interest_payment, cumulative_payment])\n",
    "    \n",
    "    df = pd.DataFrame(records, columns=['Month', 'Outstanding Principal', 'Monthly Payment', 'Principal Payment', 'Interest Payment', \n",
    "                                        'Cumulative Principal Payment', 'Cumulative Interest Payment', 'Cumulative Payment'])\n",
    "    return df"
   ]
  },
  {
   "cell_type": "markdown",
   "metadata": {},
   "source": [
    "## 2.2 Visualization"
   ]
  },
  {
   "cell_type": "markdown",
   "metadata": {},
   "source": [
    "#### 1 Monthly Payments Comparison"
   ]
  },
  {
   "cell_type": "code",
   "execution_count": null,
   "metadata": {},
   "outputs": [],
   "source": [
    "def plot_monthly_payment(p, r, N, n, new_r, new_n, c, co):\n",
    "    \n",
    "    '''\n",
    "    Plot a comparison of monthly payments between the current mortgage plan and the potential refinanced mortgage plans.\n",
    "    '''\n",
    "    \n",
    "    # Results from the mortgage_refinance_calculation function\n",
    "    refinance_results = mortgage_refinance_calculation(p, r, N, n, new_r, new_n, c, co)\n",
    "    current_monthly_payment = refinance_results['current_monthly_payment']\n",
    "    new_monthly_payment = refinance_results['new_monthly_payment']\n",
    "    new_monthly_payment_adjusted = refinance_results['new_monthly_payment_adjusted']\n",
    "    outstanding_payment = refinance_results['outstanding_principal_balance_adjusted'] - co\n",
    "    outstanding_payment_adjusted = refinance_results['outstanding_principal_balance_adjusted']\n",
    "    monthly_savings = refinance_results['monthly_savings']\n",
    "    monthly_savings_adjusted = current_monthly_payment - new_monthly_payment_adjusted\n",
    "    \n",
    "    # The types of payments and their labels\n",
    "    payments_type = [current_monthly_payment, new_monthly_payment]\n",
    "    labels = [\n",
    "        f'Current Mortgage Plan\\nOutstanding: ${outstanding_payment:,.2f}\\n{r}% APR\\n{n} months remaining',\n",
    "        f'Refinance Mortgage Plan Without Cash Out\\nOutstanding: ${outstanding_payment:,.2f}\\n{new_r}% APR\\n{new_n} months remaining'\n",
    "    ]\n",
    "    \n",
    "    # Include cash-out details if provided\n",
    "    if co != 0:\n",
    "        payments_type.append(new_monthly_payment_adjusted)\n",
    "        labels.append(f'Refinance Mortgage Plan With Cash Out\\nOutstanding: ${outstanding_payment_adjusted:,.2f}\\n{new_r}% APR\\n{new_n} months remaining')\n",
    "    \n",
    "    plt.figure(figsize = (10, 6))\n",
    "    bars = plt.bar(labels, payments_type, color = ['black', 'blue', 'lightblue'])\n",
    "    plt.ylabel('Monthly Payment ($)')\n",
    "    plt.title('Monthly Payment Comparison')\n",
    "    plt.xticks(ha='center', fontsize = 8)\n",
    "    for bar in bars:\n",
    "        plt.text(bar.get_x() + bar.get_width()/2, bar.get_height() + 100, f'${bar.get_height():,.2f}', ha = 'center', va = 'bottom', fontsize = 15)\n",
    "        \n",
    "    plt.axhline(y = new_monthly_payment, color = 'red', linestyle = '--')\n",
    "    plt.axhline(y = new_monthly_payment_adjusted, color = 'green', linestyle = '--')\n",
    "    \n",
    "    # Annotate some details\n",
    "    plt.annotate(f'Monthly Savings: ${monthly_savings:,.2f}', \n",
    "                 xy = (1, new_monthly_payment), \n",
    "                 xycoords = 'data', \n",
    "                 xytext = (50, 20), \n",
    "                 textcoords = 'offset points', \n",
    "                 arrowprops = dict(arrowstyle = \"->\", lw = 1.5))\n",
    "    \n",
    "    plt.annotate(f'Difference: ${monthly_savings_adjusted:,.2f}', \n",
    "                 xy = (2, new_monthly_payment_adjusted), \n",
    "                 xycoords = 'data', \n",
    "                 xytext = (50, 10), \n",
    "                 textcoords = 'offset points', \n",
    "                 arrowprops = dict(arrowstyle = \"->\", lw = 1.5))\n",
    "    \n",
    "    plt.tight_layout()\n",
    "    \n",
    "    return plt"
   ]
  },
  {
   "cell_type": "code",
   "execution_count": null,
   "metadata": {},
   "outputs": [],
   "source": [
    "def plot_loan_amortization_schedule(p, r, N, n, new_r, new_n, c, co):\n",
    "    \n",
    "    '''\n",
    "    Plot a comparison of the cumulative payments over time for the current loan \n",
    "    versus a potential refinanced loan.\n",
    "    '''\n",
    "    \n",
    "    refinance_results = mortgage_refinance_calculation(p, r, N, n, new_r, new_n, c, co)\n",
    "    outstanding_principal_balance = refinance_results['outstanding_principal_balance_adjusted'] - co\n",
    "    \n",
    "    # Generate amortization schedules\n",
    "    current_schedule_df = loan_amortization_schedule(outstanding_principal_balance, r, n)\n",
    "    new_schedule_df = loan_amortization_schedule(outstanding_principal_balance, new_r, new_n)\n",
    "    # Add a year column\n",
    "    current_schedule_df['Year'] = ((current_schedule_df['Month'] - 1) / 12).astype(int) + 1\n",
    "    new_schedule_df['Year'] = ((new_schedule_df['Month'] - 1) / 12).astype(int) + 1\n",
    "    # Group by year and sum the payments\n",
    "    current_grouped = current_schedule_df.groupby('Year').max()\n",
    "    new_grouped = new_schedule_df.groupby('Year').max()\n",
    "    \n",
    "    plt.figure(figsize = (14,7))\n",
    "\n",
    "    plt.scatter(current_grouped.index, current_grouped['Cumulative Payment'], label = 'Current Cumulative Payment', color = 'black')\n",
    "    plt.scatter(new_grouped.index, new_grouped['Cumulative Payment'], label = 'New Cumulative Payment', color = 'blue')\n",
    "    plt.plot(current_grouped.index, current_grouped['Cumulative Payment'], color = 'black')\n",
    "    plt.plot(new_grouped.index, new_grouped['Cumulative Payment'], color = 'blue')\n",
    "\n",
    "    plt.title('Cumulative Payments Over Time')\n",
    "    plt.xlabel('Year')\n",
    "    plt.ylabel('Amount ($)')\n",
    "    formatter = FuncFormatter(thousands_formatter)\n",
    "    plt.gca().yaxis.set_major_formatter(formatter)\n",
    "    \n",
    "    plt.legend()\n",
    "    plt.tight_layout()\n",
    "    \n",
    "    return plt"
   ]
  },
  {
   "cell_type": "code",
   "execution_count": null,
   "metadata": {},
   "outputs": [],
   "source": [
    "def payment_comparison(p, r, N, n, new_r, new_n, c, co):\n",
    "    \n",
    "    plot_monthly_payment(p, r, N, n, new_r, new_n, c, co)\n",
    "    plt.show() \n",
    "    \n",
    "    plot_loan_amortization_schedule(p, r, N, n, new_r, new_n, c, co)\n",
    "    plt.show() "
   ]
  },
  {
   "cell_type": "markdown",
   "metadata": {},
   "source": [
    "#### 2 Break Even Point Visualization\n",
    "- x cash out"
   ]
  },
  {
   "cell_type": "code",
   "execution_count": null,
   "metadata": {},
   "outputs": [],
   "source": [
    "\n",
    "def plot_break_even_period(p, r, N, n, new_r, new_n, c, co):\n",
    "    \n",
    "    '''\n",
    "    Plot the break-even period for mortgage refinancing.\n",
    "    Defined as the number of months it takes for the cumulative monthly savings from refinancing to equal or exceed the closing costs.\n",
    "    '''\n",
    "    \n",
    "    refinance_results = mortgage_refinance_calculation(p, r, N, n, new_r, new_n, c, co)\n",
    "    \n",
    "    new_remaining_term = new_n\n",
    "    closing_cost = c\n",
    "    monthly_savings = refinance_results['monthly_savings']\n",
    "    \n",
    "    cumulative_savings = [monthly_savings * i for i in range(1, (new_remaining_term  + 1))]\n",
    "    \n",
    "    # Break even point\n",
    "    break_even_month = 0\n",
    "    for i, savings in enumerate(cumulative_savings):\n",
    "        if savings >= c:\n",
    "            break_even_month = i + 1\n",
    "            break\n",
    "        \n",
    "    plt.figure(figsize = (15, 6))\n",
    "    plt.plot(range(1, new_remaining_term + 1), cumulative_savings, label = 'Cumulative Savings', color = 'blue')\n",
    "    plt.axhline(y = closing_cost, color = 'r', linestyle = '--', label = 'Closing Cost')\n",
    "    plt.axvline(x = break_even_month, color = 'g', linestyle = '--', label = 'Break-even Month')\n",
    "    plt.scatter(break_even_month, closing_cost, color = 'black', zorder = 5, label = 'Break-even Point') # highlight break-even point\n",
    "    plt.annotate(f'Month {break_even_month}', \n",
    "                (break_even_month, closing_cost), \n",
    "                textcoords = 'offset points', \n",
    "                xytext = (-15,15), ha = 'center', fontsize = 12,\n",
    "                arrowprops = dict(arrowstyle = \"->\", lw = 1.5))\n",
    "    plt.xlabel('Months')\n",
    "    plt.ylabel('Cumulative Savings ($)')\n",
    "    plt.legend()\n",
    "    plt.grid(True)\n",
    "    plt.title('Break-even Period for Mortgage Refinancing')\n",
    "    \n",
    "    return plt\n"
   ]
  },
  {
   "cell_type": "markdown",
   "metadata": {},
   "source": [
    "### 3 Savings Plot"
   ]
  },
  {
   "cell_type": "code",
   "execution_count": null,
   "metadata": {},
   "outputs": [],
   "source": [
    "def plot_savings_interval(p, r, N, n, new_r, new_n, c, co, year_interval = 7):\n",
    "    \n",
    "    '''\n",
    "    Plot the cumulative savings for mortgage refinancing over a specified interval of years.\n",
    "    \n",
    "    Note:\n",
    "    - The closing cost is assumed to be paid in advance.\n",
    "    '''\n",
    "    \n",
    "    refinance_results = mortgage_refinance_calculation(p, r, N, n, new_r, new_n, c, co)\n",
    "    monthly_savings = refinance_results['monthly_savings']\n",
    "    \n",
    "    # Cumulative savings cashflow\n",
    "    cashflow = [-c]\n",
    "    cashflow.extend([monthly_savings] * new_n)\n",
    "    cumulative_cashflow = np.cumsum(cashflow)\n",
    "    \n",
    "    # Display: 0 for closing cost, first year, intervals, last year\n",
    "    indices_display = [0, 12] + list(range(12 * year_interval, new_n + 1, 12 * year_interval))\n",
    "    indices_display = [i for i in indices_display if i <= new_n]\n",
    "    if indices_display[-1] != new_n:\n",
    "        indices_display.append(new_n)\n",
    "    \n",
    "    y = list(reversed(range(len(indices_display))))  # Reverse the y-values\n",
    "    x = [cumulative_cashflow[i] for i in indices_display]\n",
    "    labels = ['Cost'] + [f'Year {i // 12}' for i in indices_display[1:]]\n",
    "    colors = ['red' if val < 0 else 'blue' for val in x]\n",
    "    \n",
    "    plt.figure(figsize = (15, 6))\n",
    "    bars = plt.barh(y, x, tick_label = labels, color = colors)\n",
    "    plt.ylabel('Year')\n",
    "    plt.xlabel('Cumulative Savings ($)')\n",
    "    formatter = FuncFormatter(thousands_formatter)\n",
    "    plt.gca().xaxis.set_major_formatter(formatter)\n",
    "    for bar, value in zip(bars, x):\n",
    "        if value < 0:\n",
    "            plt.text(max(x) * 0.08, bar.get_y() + bar.get_height()/2 , f'${value:,.0f}', va = 'center', ha = 'right', fontsize = 14)\n",
    "        else:\n",
    "            plt.text(value + max(x) * 0.01, bar.get_y() + bar.get_height()/2 , f'${value:,.0f}', va = 'center', ha = 'left', fontsize = 14)\n",
    "    plt.title('Total Cumulative Savings for Mortgage Refinancing')\n",
    "    plt.grid(True, axis = 'x')\n",
    "    plt.tight_layout()\n",
    "    \n",
    "    return plt"
   ]
  },
  {
   "cell_type": "markdown",
   "metadata": {},
   "source": [
    "# 3 Test"
   ]
  },
  {
   "cell_type": "code",
   "execution_count": null,
   "metadata": {},
   "outputs": [],
   "source": [
    "p = 300000  # Principal\n",
    "r = 5  # Current interest rate in percentage\n",
    "N = 360  # Current total term in months\n",
    "n = 240  # Current remaining term in months\n",
    "new_r = 3.5  # New interest rate in percentage\n",
    "new_n = 240  # New remaining term in months\n",
    "c = 5000  # Closing cost\n",
    "co = 10000 # Cash out\n",
    "discount_rate = discount_rate  # Discount rate for NPV calculation"
   ]
  },
  {
   "cell_type": "code",
   "execution_count": null,
   "metadata": {},
   "outputs": [
    {
     "data": {
      "text/plain": [
       "{'break_even_point': 25.61327850735065,\n",
       " 'monthly_savings': 195.2112455484787,\n",
       " 'outstanding_principal_balance_adjusted': 254026.19347594088,\n",
       " 'current_monthly_payment': 1610.4648690364193,\n",
       " 'new_monthly_payment': 1415.2536234879406,\n",
       " 'new_monthly_payment_adjusted': 1473.2495952862496}"
      ]
     },
     "execution_count": 23,
     "metadata": {},
     "output_type": "execute_result"
    }
   ],
   "source": [
    "mortgage_refinance_calculation(p, r, N, n, new_r, new_n, c, co)"
   ]
  },
  {
   "cell_type": "code",
   "execution_count": null,
   "metadata": {},
   "outputs": [
    {
     "data": {
      "text/plain": [
       "{'Nominal Cost without Refinance': 386511.5685687406,\n",
       " 'Nominal Cost with Refinance': 344660.86963710573,\n",
       " 'Nominal Savings': 41850.69893163489,\n",
       " 'PV Cost without Refinance': 11451.71152636066,\n",
       " 'PV Cost with Refinance': 15063.601227462746,\n",
       " 'PV Savings': -3611.889701102087}"
      ]
     },
     "execution_count": 24,
     "metadata": {},
     "output_type": "execute_result"
    }
   ],
   "source": [
    "mortgage_refinance_total_costs_calculation(p, r, N, n, new_r, new_n, c, co, discount_rate)"
   ]
  },
  {
   "cell_type": "code",
   "execution_count": null,
   "metadata": {},
   "outputs": [
    {
     "data": {
      "image/png": "[encoded data removed]",
      "text/plain": [
       "<Figure size 1000x600 with 1 Axes>"
      ]
     },
     "metadata": {},
     "output_type": "display_data"
    },
    {
     "data": {
      "image/png": "[encoded data removed]",
      "text/plain": [
       "<Figure size 1400x700 with 1 Axes>"
      ]
     },
     "metadata": {},
     "output_type": "display_data"
    }
   ],
   "source": [
    "payment_comparison(p, r, N, n, new_r, new_n, c, co)"
   ]
  },
  {
   "cell_type": "code",
   "execution_count": null,
   "metadata": {},
   "outputs": [
    {
     "data": {
      "text/plain": [
       "<module 'matplotlib.pyplot' from '/Users/katkang/opt/anaconda3/lib/python3.9/site-packages/matplotlib/pyplot.py'>"
      ]
     },
     "execution_count": 26,
     "metadata": {},
     "output_type": "execute_result"
    },
    {
     "data": {
      "image/png": "[encoded data removed]",
      "text/plain": [
       "<Figure size 1500x600 with 1 Axes>"
      ]
     },
     "metadata": {},
     "output_type": "display_data"
    }
   ],
   "source": [
    "plot_savings_interval(p, r, N, n, new_r, new_n, c, co, year_interval = 7)"
   ]
  },
  {
   "cell_type": "code",
   "execution_count": null,
   "metadata": {},
   "outputs": [
    {
     "data": {
      "text/plain": [
       "<module 'matplotlib.pyplot' from '/Users/katkang/opt/anaconda3/lib/python3.9/site-packages/matplotlib/pyplot.py'>"
      ]
     },
     "execution_count": 27,
     "metadata": {},
     "output_type": "execute_result"
    },
    {
     "data": {
      "image/png": "[encoded data removed]",
      "text/plain": [
       "<Figure size 1500x600 with 1 Axes>"
      ]
     },
     "metadata": {},
     "output_type": "display_data"
    }
   ],
   "source": [
    "plot_break_even_period(p, r, N, n, new_r, new_n, c, co)"
   ]
  },
  {
   "cell_type": "markdown",
   "metadata": {},
   "source": [
    "# 4 Interface"
   ]
  },
  {
   "cell_type": "code",
   "execution_count": null,
   "metadata": {},
   "outputs": [
    {
     "data": {
      "application/vnd.jupyter.widget-view+json": {
       "model_id": "09537447854b45be96081a0a06e77ee0",
       "version_major": 2,
       "version_minor": 0
      },
      "text/plain": [
       "VBox(children=(FloatText(value=300000.0, description='Principal ($):'), FloatText(value=5.0, description='Curr…"
      ]
     },
     "metadata": {},
     "output_type": "display_data"
    },
    {
     "data": {
      "application/vnd.jupyter.widget-view+json": {
       "model_id": "70c496a1a79c442bb0316b31f2ee2e61",
       "version_major": 2,
       "version_minor": 0
      },
      "text/plain": [
       "Textarea(value='', disabled=True)"
      ]
     },
     "metadata": {},
     "output_type": "display_data"
    },
    {
     "data": {
      "application/vnd.jupyter.widget-view+json": {
       "model_id": "ed125a210d8a44f6a739b21228f17aa1",
       "version_major": 2,
       "version_minor": 0
      },
      "text/plain": [
       "Output()"
      ]
     },
     "metadata": {},
     "output_type": "display_data"
    },
    {
     "data": {
      "application/vnd.jupyter.widget-view+json": {
       "model_id": "5ba29eff6e404b258f5119c8dfce4942",
       "version_major": 2,
       "version_minor": 0
      },
      "text/plain": [
       "Button(description='Show Market Rates', style=ButtonStyle())"
      ]
     },
     "metadata": {},
     "output_type": "display_data"
    },
    {
     "data": {
      "application/vnd.jupyter.widget-view+json": {
       "model_id": "84b926f14435475ba0a3e018cf164f8a",
       "version_major": 2,
       "version_minor": 0
      },
      "text/plain": [
       "Output()"
      ]
     },
     "metadata": {},
     "output_type": "display_data"
    }
   ],
   "source": [
    "# Widgets\n",
    "principal_widget = widgets.FloatText(value = 300000, description = \"Principal ($):\")\n",
    "current_rate_widget = widgets.FloatText(value = 5, description = \"Current APR (%):\")\n",
    "current_total_term_widget = widgets.IntText(value = 360, description = \"Total Term (months):\")\n",
    "current_remaining_term_widget = widgets.IntText(value = 240, description = \"Remaining Term (months):\")\n",
    "new_rate_widget = widgets.FloatText(value = 3.5, description = \"New APR (%):\")\n",
    "new_remaining_term_widget = widgets.IntText(value = 240, description = \"New Term (months):\")\n",
    "closing_cost_widget = widgets.FloatText(value = 5000, description = \"Closing Cost ($):\")\n",
    "cash_out_widget = widgets.FloatText(value = 0, description = \"Cash Out ($):\")\n",
    "year_interval_widget = widgets.IntText(value = 5, description = \"Year Interval ($):\")\n",
    "analyze_button = widgets.Button(description = \"Analyze\")\n",
    "\n",
    "market_rates_button = widgets.Button(description = 'Show Market Rates')\n",
    "market_rates_output = widgets.Output()\n",
    "\n",
    "# Results label\n",
    "results_textarea = widgets.Textarea(disabled = True)\n",
    "graph_output = widgets.Output()\n",
    "\n",
    "def analyze(button):\n",
    "    principal = principal_widget.value\n",
    "    current_rate = current_rate_widget.value\n",
    "    current_total_term = current_total_term_widget.value\n",
    "    current_remaining_term = current_remaining_term_widget.value\n",
    "    new_rate = new_rate_widget.value\n",
    "    new_remaining_term = new_remaining_term_widget.value\n",
    "    closing_cost = closing_cost_widget.value\n",
    "    cash_out = cash_out_widget.value\n",
    "    year_interval = year_interval_widget.value\n",
    "\n",
    "    refinance_results = mortgage_refinance_calculation(principal, current_rate, current_total_term, current_remaining_term, new_rate, new_remaining_term, closing_cost, cash_out)\n",
    "\n",
    "    # Results label for some key metrics\n",
    "    results_text = f\"\"\"\n",
    "    New Monthly Payment(Include the impact of cash out): ${refinance_results['new_monthly_payment_adjusted']:.2f}\n",
    "    Monthly Savings: ${refinance_results['monthly_savings']:.2f}\n",
    "    Break Even Point: {refinance_results['break_even_point']:.2f} months\n",
    "    Cumulative Savings: ${refinance_results['monthly_savings'] * new_remaining_term:.2f}\n",
    "    \"\"\"\n",
    "    results_textarea.value = results_text\n",
    "    \n",
    "    # Graphs\n",
    "    with graph_output:\n",
    "        clear_output(wait = True)\n",
    "        payment_comparison(principal, current_rate, current_total_term, current_remaining_term, new_rate, new_remaining_term, closing_cost, cash_out)\n",
    "        plot_savings_interval(principal, current_rate, current_total_term, current_remaining_term, new_rate, new_remaining_term, closing_cost, cash_out, year_interval)\n",
    "        plot_break_even_period(principal, current_rate, current_total_term, current_remaining_term, new_rate, new_remaining_term, closing_cost, cash_out)\n",
    "        plt.show()\n",
    "        \n",
    "analyze_button.on_click(analyze)\n",
    "input_widgets = widgets.VBox([principal_widget, current_rate_widget, current_total_term_widget, current_remaining_term_widget,\n",
    "                            new_rate_widget, new_remaining_term_widget, closing_cost_widget, cash_out_widget, year_interval_widget,\n",
    "                            analyze_button])\n",
    "\n",
    "\n",
    "def show_market_rates(button):\n",
    "    # The Mortgage News Daily rate index is published daily (weekdays) around 4PM EST\n",
    "    url = 'https://www.mortgagenewsdaily.com/mortgage-rates'\n",
    "    soup = lovely_soup(url)\n",
    "    rate_div= soup.find_all('div', class_ = 'col-sm-4 col-xs-12 rate-product')\n",
    "    rate_type_div = soup.find_all('div', class_ = 'rate-product-name hidden-xs')\n",
    "    rates = []\n",
    "    rate_types = []\n",
    "    for div in rate_div:\n",
    "        rate = div.find('div', class_='rate')\n",
    "        if rate is not None:\n",
    "            rates.append(rate.text.strip())\n",
    "    for div in rate_type_div:\n",
    "        rate_type = div.a.text.strip()\n",
    "        rate_types.append(rate_type)\n",
    "    rate_df = pd.DataFrame({'rate_type': rate_types, 'rate': rates})\n",
    "\n",
    "    with market_rates_output:\n",
    "        clear_output(wait = True)\n",
    "        display(rate_df)\n",
    "market_rates_button.on_click(show_market_rates)\n",
    "\n",
    "display(input_widgets, results_textarea, graph_output, market_rates_button, market_rates_output)\n"
   ]
  },
  {
   "cell_type": "markdown",
   "metadata": {},
   "source": [
    "---\n",
    "The interactive plot isn't incorporated into the widget and needs manual adjustment"
   ]
  },
  {
   "cell_type": "code",
   "execution_count": null,
   "metadata": {},
   "outputs": [],
   "source": [
    "p = 300000  # Principal\n",
    "r = 5  # Current interest rate in percentage\n",
    "N = 360  # Current total term in months\n",
    "n = 222  # Current remaining term in months\n",
    "new_r = 3.5  # New interest rate in percentage\n",
    "new_n = 240  # New remaining term in months\n",
    "c = 5000  # Closing cost\n",
    "co = 10000 # Cash out\n",
    "discount_rate = discount_rate  # Discount rate for NPV calculation"
   ]
  },
  {
   "cell_type": "code",
   "execution_count": null,
   "metadata": {},
   "outputs": [
    {
     "data": {
      "application/vnd.plotly.v1+json": {
       "config": {
        "plotlyServerURL": "https://plot.ly"
       },
       "data": [
        {
         "customdata": [
          [
           11469.21885766472,
           7856.359570772317
          ],
          [
           22536.491449247405,
           16114.665407626664
          ],
          [
           33181.253440928835,
           24795.48184438227
          ],
          [
           43381.88838854291,
           33920.42532520524
          ],
          [
           53115.67390961453,
           43512.218232570645
          ],
          [
           62358.72510145678,
           53594.745469165435
          ],
          [
           71085.93506443057,
           64193.113934628665
          ],
          [
           79270.91238226135,
           75333.71504523493
          ],
          [
           86885.91540373016,
           87044.29045220313
          ],
          [
           93901.78316209135,
           99354.00112227899
          ],
          [
           100287.86276019644,
           112293.49995261096
          ],
          [
           106011.9330405033,
           125895.00810074118
          ],
          [
           111040.12434989793,
           140192.39521978356
          ],
          [
           115336.83419953252,
           155221.26379858603
          ],
          [
           118864.63860966041,
           171019.0378168952
          ],
          [
           121584.19891870487,
           187625.0559362878
          ],
          [
           123454.1638245028,
           205080.66945892692
          ],
          [
           124431.06641379246,
           223429.34529807433
          ],
          [
           124570.43091742074,
           232952.77000866455
          ],
          [
           null,
           null
          ]
         ],
         "hoverinfo": "all",
         "hovertemplate": "Year: %{x}<br>Cumulative Payment: %{y:$}<br>Cumulative Interest Payment: %{customdata[0]:$}<br>Cumulative Principal Payment: %{customdata[1]:$}",
         "legendgroup": "Current Cumulative Payment",
         "line": {
          "color": "#636efa",
          "dash": "solid"
         },
         "marker": {
          "symbol": "circle"
         },
         "mode": "lines",
         "name": "Current Cumulative Payment",
         "orientation": "v",
         "showlegend": true,
         "type": "scatter",
         "x": [
          1,
          2,
          3,
          4,
          5,
          6,
          7,
          8,
          9,
          10,
          11,
          12,
          13,
          14,
          15,
          16,
          17,
          18,
          19,
          20
         ],
         "xaxis": "x",
         "y": [
          19325.57842843704,
          38651.15685687407,
          57976.73528531111,
          77302.31371374815,
          96627.89214218518,
          115953.47057062222,
          135279.04899905925,
          154604.62742749628,
          173930.2058559333,
          193255.78428437034,
          212581.3627128074,
          231906.9411412445,
          251232.5195696815,
          270558.09799811855,
          289883.6764265556,
          309209.2548549927,
          328534.83328342973,
          347860.4117118668,
          357523.2009260853,
          null
         ],
         "yaxis": "y"
        },
        {
         "customdata": [
          [
           8022.801340359472,
           8189.585395353058
          ],
          [
           15754.324082315417,
           16670.449389109643
          ],
          [
           23184.208333664246,
           25452.951873473343
          ],
          [
           30301.725732403836,
           34547.82121044628
          ],
          [
           37095.76634138556,
           43966.16733717709
          ],
          [
           43554.825076848996,
           53719.4953374262
          ],
          [
           49666.987654260956,
           63819.719495726764
          ],
          [
           55419.91603429087,
           74279.17785140936
          ],
          [
           60800.8333511439,
           85110.64727026885
          ],
          [
           65796.50830484062,
           96327.35905228466
          ],
          [
           70393.23899837787,
           107943.01509445994
          ],
          [
           74576.83620002649,
           119971.80462852385
          ],
          [
           78332.60601032009,
           132428.42155394278
          ],
          [
           81645.33191256135,
           145328.0823874141
          ],
          [
           84499.25618491953,
           158686.54485076843
          ],
          [
           86878.06065141308,
           172520.12711998748
          ],
          [
           88764.84674826308,
           186845.72775885
          ],
          [
           90142.11488126795,
           201680.8463615577
          ],
          [
           90991.74304898242,
           217043.60492955573
          ],
          [
           91294.96470558856,
           232952.7700086621
          ]
         ],
         "hoverinfo": "all",
         "hovertemplate": "Year: %{x}<br>Cumulative Payment: %{y:$}<br>Cumulative Interest Payment: %{customdata[0]:$}<br>Cumulative Principal Payment: %{customdata[1]:$}",
         "legendgroup": "New Cumulative Payment",
         "line": {
          "color": "#EF553B",
          "dash": "solid"
         },
         "marker": {
          "symbol": "circle"
         },
         "mode": "lines",
         "name": "New Cumulative Payment",
         "orientation": "v",
         "showlegend": true,
         "type": "scatter",
         "x": [
          1,
          2,
          3,
          4,
          5,
          6,
          7,
          8,
          9,
          10,
          11,
          12,
          13,
          14,
          15,
          16,
          17,
          18,
          19,
          20
         ],
         "xaxis": "x",
         "y": [
          16212.386735712531,
          32424.773471425062,
          48637.16020713759,
          64849.54694285012,
          81061.93367856265,
          97274.3204142752,
          113486.70714998772,
          129699.09388570023,
          145911.48062141275,
          162123.86735712527,
          178336.2540928378,
          194548.64082855033,
          210761.02756426285,
          226973.41429997544,
          243185.80103568797,
          259398.18777140055,
          275610.5745071131,
          291822.9612428256,
          308035.34797853814,
          324247.73471425066
         ],
         "yaxis": "y"
        }
       ],
       "layout": {
        "legend": {
         "title": {
          "text": "variable"
         },
         "tracegroupgap": 0
        },
        "template": {
         "data": {
          "bar": [
           {
            "error_x": {
             "color": "#2a3f5f"
            },
            "error_y": {
             "color": "#2a3f5f"
            },
            "marker": {
             "line": {
              "color": "#E5ECF6",
              "width": 0.5
             },
             "pattern": {
              "fillmode": "overlay",
              "size": 10,
              "solidity": 0.2
             }
            },
            "type": "bar"
           }
          ],
          "barpolar": [
           {
            "marker": {
             "line": {
              "color": "#E5ECF6",
              "width": 0.5
             },
             "pattern": {
              "fillmode": "overlay",
              "size": 10,
              "solidity": 0.2
             }
            },
            "type": "barpolar"
           }
          ],
          "carpet": [
           {
            "aaxis": {
             "endlinecolor": "#2a3f5f",
             "gridcolor": "white",
             "linecolor": "white",
             "minorgridcolor": "white",
             "startlinecolor": "#2a3f5f"
            },
            "baxis": {
             "endlinecolor": "#2a3f5f",
             "gridcolor": "white",
             "linecolor": "white",
             "minorgridcolor": "white",
             "startlinecolor": "#2a3f5f"
            },
            "type": "carpet"
           }
          ],
          "choropleth": [
           {
            "colorbar": {
             "outlinewidth": 0,
             "ticks": ""
            },
            "type": "choropleth"
           }
          ],
          "contour": [
           {
            "colorbar": {
             "outlinewidth": 0,
             "ticks": ""
            },
            "colorscale": [
             [
              0,
              "#0d0887"
             ],
             [
              0.1111111111111111,
              "#46039f"
             ],
             [
              0.2222222222222222,
              "#7201a8"
             ],
             [
              0.3333333333333333,
              "#9c179e"
             ],
             [
              0.4444444444444444,
              "#bd3786"
             ],
             [
              0.5555555555555556,
              "#d8576b"
             ],
             [
              0.6666666666666666,
              "#ed7953"
             ],
             [
              0.7777777777777778,
              "#fb9f3a"
             ],
             [
              0.8888888888888888,
              "#fdca26"
             ],
             [
              1,
              "#f0f921"
             ]
            ],
            "type": "contour"
           }
          ],
          "contourcarpet": [
           {
            "colorbar": {
             "outlinewidth": 0,
             "ticks": ""
            },
            "type": "contourcarpet"
           }
          ],
          "heatmap": [
           {
            "colorbar": {
             "outlinewidth": 0,
             "ticks": ""
            },
            "colorscale": [
             [
              0,
              "#0d0887"
             ],
             [
              0.1111111111111111,
              "#46039f"
             ],
             [
              0.2222222222222222,
              "#7201a8"
             ],
             [
              0.3333333333333333,
              "#9c179e"
             ],
             [
              0.4444444444444444,
              "#bd3786"
             ],
             [
              0.5555555555555556,
              "#d8576b"
             ],
             [
              0.6666666666666666,
              "#ed7953"
             ],
             [
              0.7777777777777778,
              "#fb9f3a"
             ],
             [
              0.8888888888888888,
              "#fdca26"
             ],
             [
              1,
              "#f0f921"
             ]
            ],
            "type": "heatmap"
           }
          ],
          "heatmapgl": [
           {
            "colorbar": {
             "outlinewidth": 0,
             "ticks": ""
            },
            "colorscale": [
             [
              0,
              "#0d0887"
             ],
             [
              0.1111111111111111,
              "#46039f"
             ],
             [
              0.2222222222222222,
              "#7201a8"
             ],
             [
              0.3333333333333333,
              "#9c179e"
             ],
             [
              0.4444444444444444,
              "#bd3786"
             ],
             [
              0.5555555555555556,
              "#d8576b"
             ],
             [
              0.6666666666666666,
              "#ed7953"
             ],
             [
              0.7777777777777778,
              "#fb9f3a"
             ],
             [
              0.8888888888888888,
              "#fdca26"
             ],
             [
              1,
              "#f0f921"
             ]
            ],
            "type": "heatmapgl"
           }
          ],
          "histogram": [
           {
            "marker": {
             "pattern": {
              "fillmode": "overlay",
              "size": 10,
              "solidity": 0.2
             }
            },
            "type": "histogram"
           }
          ],
          "histogram2d": [
           {
            "colorbar": {
             "outlinewidth": 0,
             "ticks": ""
            },
            "colorscale": [
             [
              0,
              "#0d0887"
             ],
             [
              0.1111111111111111,
              "#46039f"
             ],
             [
              0.2222222222222222,
              "#7201a8"
             ],
             [
              0.3333333333333333,
              "#9c179e"
             ],
             [
              0.4444444444444444,
              "#bd3786"
             ],
             [
              0.5555555555555556,
              "#d8576b"
             ],
             [
              0.6666666666666666,
              "#ed7953"
             ],
             [
              0.7777777777777778,
              "#fb9f3a"
             ],
             [
              0.8888888888888888,
              "#fdca26"
             ],
             [
              1,
              "#f0f921"
             ]
            ],
            "type": "histogram2d"
           }
          ],
          "histogram2dcontour": [
           {
            "colorbar": {
             "outlinewidth": 0,
             "ticks": ""
            },
            "colorscale": [
             [
              0,
              "#0d0887"
             ],
             [
              0.1111111111111111,
              "#46039f"
             ],
             [
              0.2222222222222222,
              "#7201a8"
             ],
             [
              0.3333333333333333,
              "#9c179e"
             ],
             [
              0.4444444444444444,
              "#bd3786"
             ],
             [
              0.5555555555555556,
              "#d8576b"
             ],
             [
              0.6666666666666666,
              "#ed7953"
             ],
             [
              0.7777777777777778,
              "#fb9f3a"
             ],
             [
              0.8888888888888888,
              "#fdca26"
             ],
             [
              1,
              "#f0f921"
             ]
            ],
            "type": "histogram2dcontour"
           }
          ],
          "mesh3d": [
           {
            "colorbar": {
             "outlinewidth": 0,
             "ticks": ""
            },
            "type": "mesh3d"
           }
          ],
          "parcoords": [
           {
            "line": {
             "colorbar": {
              "outlinewidth": 0,
              "ticks": ""
             }
            },
            "type": "parcoords"
           }
          ],
          "pie": [
           {
            "automargin": true,
            "type": "pie"
           }
          ],
          "scatter": [
           {
            "fillpattern": {
             "fillmode": "overlay",
             "size": 10,
             "solidity": 0.2
            },
            "type": "scatter"
           }
          ],
          "scatter3d": [
           {
            "line": {
             "colorbar": {
              "outlinewidth": 0,
              "ticks": ""
             }
            },
            "marker": {
             "colorbar": {
              "outlinewidth": 0,
              "ticks": ""
             }
            },
            "type": "scatter3d"
           }
          ],
          "scattercarpet": [
           {
            "marker": {
             "colorbar": {
              "outlinewidth": 0,
              "ticks": ""
             }
            },
            "type": "scattercarpet"
           }
          ],
          "scattergeo": [
           {
            "marker": {
             "colorbar": {
              "outlinewidth": 0,
              "ticks": ""
             }
            },
            "type": "scattergeo"
           }
          ],
          "scattergl": [
           {
            "marker": {
             "colorbar": {
              "outlinewidth": 0,
              "ticks": ""
             }
            },
            "type": "scattergl"
           }
          ],
          "scattermapbox": [
           {
            "marker": {
             "colorbar": {
              "outlinewidth": 0,
              "ticks": ""
             }
            },
            "type": "scattermapbox"
           }
          ],
          "scatterpolar": [
           {
            "marker": {
             "colorbar": {
              "outlinewidth": 0,
              "ticks": ""
             }
            },
            "type": "scatterpolar"
           }
          ],
          "scatterpolargl": [
           {
            "marker": {
             "colorbar": {
              "outlinewidth": 0,
              "ticks": ""
             }
            },
            "type": "scatterpolargl"
           }
          ],
          "scatterternary": [
           {
            "marker": {
             "colorbar": {
              "outlinewidth": 0,
              "ticks": ""
             }
            },
            "type": "scatterternary"
           }
          ],
          "surface": [
           {
            "colorbar": {
             "outlinewidth": 0,
             "ticks": ""
            },
            "colorscale": [
             [
              0,
              "#0d0887"
             ],
             [
              0.1111111111111111,
              "#46039f"
             ],
             [
              0.2222222222222222,
              "#7201a8"
             ],
             [
              0.3333333333333333,
              "#9c179e"
             ],
             [
              0.4444444444444444,
              "#bd3786"
             ],
             [
              0.5555555555555556,
              "#d8576b"
             ],
             [
              0.6666666666666666,
              "#ed7953"
             ],
             [
              0.7777777777777778,
              "#fb9f3a"
             ],
             [
              0.8888888888888888,
              "#fdca26"
             ],
             [
              1,
              "#f0f921"
             ]
            ],
            "type": "surface"
           }
          ],
          "table": [
           {
            "cells": {
             "fill": {
              "color": "#EBF0F8"
             },
             "line": {
              "color": "white"
             }
            },
            "header": {
             "fill": {
              "color": "#C8D4E3"
             },
             "line": {
              "color": "white"
             }
            },
            "type": "table"
           }
          ]
         },
         "layout": {
          "annotationdefaults": {
           "arrowcolor": "#2a3f5f",
           "arrowhead": 0,
           "arrowwidth": 1
          },
          "autotypenumbers": "strict",
          "coloraxis": {
           "colorbar": {
            "outlinewidth": 0,
            "ticks": ""
           }
          },
          "colorscale": {
           "diverging": [
            [
             0,
             "#8e0152"
            ],
            [
             0.1,
             "#c51b7d"
            ],
            [
             0.2,
             "#de77ae"
            ],
            [
             0.3,
             "#f1b6da"
            ],
            [
             0.4,
             "#fde0ef"
            ],
            [
             0.5,
             "#f7f7f7"
            ],
            [
             0.6,
             "#e6f5d0"
            ],
            [
             0.7,
             "#b8e186"
            ],
            [
             0.8,
             "#7fbc41"
            ],
            [
             0.9,
             "#4d9221"
            ],
            [
             1,
             "#276419"
            ]
           ],
           "sequential": [
            [
             0,
             "#0d0887"
            ],
            [
             0.1111111111111111,
             "#46039f"
            ],
            [
             0.2222222222222222,
             "#7201a8"
            ],
            [
             0.3333333333333333,
             "#9c179e"
            ],
            [
             0.4444444444444444,
             "#bd3786"
            ],
            [
             0.5555555555555556,
             "#d8576b"
            ],
            [
             0.6666666666666666,
             "#ed7953"
            ],
            [
             0.7777777777777778,
             "#fb9f3a"
            ],
            [
             0.8888888888888888,
             "#fdca26"
            ],
            [
             1,
             "#f0f921"
            ]
           ],
           "sequentialminus": [
            [
             0,
             "#0d0887"
            ],
            [
             0.1111111111111111,
             "#46039f"
            ],
            [
             0.2222222222222222,
             "#7201a8"
            ],
            [
             0.3333333333333333,
             "#9c179e"
            ],
            [
             0.4444444444444444,
             "#bd3786"
            ],
            [
             0.5555555555555556,
             "#d8576b"
            ],
            [
             0.6666666666666666,
             "#ed7953"
            ],
            [
             0.7777777777777778,
             "#fb9f3a"
            ],
            [
             0.8888888888888888,
             "#fdca26"
            ],
            [
             1,
             "#f0f921"
            ]
           ]
          },
          "colorway": [
           "#636efa",
           "#EF553B",
           "#00cc96",
           "#ab63fa",
           "#FFA15A",
           "#19d3f3",
           "#FF6692",
           "#B6E880",
           "#FF97FF",
           "#FECB52"
          ],
          "font": {
           "color": "#2a3f5f"
          },
          "geo": {
           "bgcolor": "white",
           "lakecolor": "white",
           "landcolor": "#E5ECF6",
           "showlakes": true,
           "showland": true,
           "subunitcolor": "white"
          },
          "hoverlabel": {
           "align": "left"
          },
          "hovermode": "closest",
          "mapbox": {
           "style": "light"
          },
          "paper_bgcolor": "white",
          "plot_bgcolor": "#E5ECF6",
          "polar": {
           "angularaxis": {
            "gridcolor": "white",
            "linecolor": "white",
            "ticks": ""
           },
           "bgcolor": "#E5ECF6",
           "radialaxis": {
            "gridcolor": "white",
            "linecolor": "white",
            "ticks": ""
           }
          },
          "scene": {
           "xaxis": {
            "backgroundcolor": "#E5ECF6",
            "gridcolor": "white",
            "gridwidth": 2,
            "linecolor": "white",
            "showbackground": true,
            "ticks": "",
            "zerolinecolor": "white"
           },
           "yaxis": {
            "backgroundcolor": "#E5ECF6",
            "gridcolor": "white",
            "gridwidth": 2,
            "linecolor": "white",
            "showbackground": true,
            "ticks": "",
            "zerolinecolor": "white"
           },
           "zaxis": {
            "backgroundcolor": "#E5ECF6",
            "gridcolor": "white",
            "gridwidth": 2,
            "linecolor": "white",
            "showbackground": true,
            "ticks": "",
            "zerolinecolor": "white"
           }
          },
          "shapedefaults": {
           "line": {
            "color": "#2a3f5f"
           }
          },
          "ternary": {
           "aaxis": {
            "gridcolor": "white",
            "linecolor": "white",
            "ticks": ""
           },
           "baxis": {
            "gridcolor": "white",
            "linecolor": "white",
            "ticks": ""
           },
           "bgcolor": "#E5ECF6",
           "caxis": {
            "gridcolor": "white",
            "linecolor": "white",
            "ticks": ""
           }
          },
          "title": {
           "x": 0.05
          },
          "xaxis": {
           "automargin": true,
           "gridcolor": "white",
           "linecolor": "white",
           "ticks": "",
           "title": {
            "standoff": 15
           },
           "zerolinecolor": "white",
           "zerolinewidth": 2
          },
          "yaxis": {
           "automargin": true,
           "gridcolor": "white",
           "linecolor": "white",
           "ticks": "",
           "title": {
            "standoff": 15
           },
           "zerolinecolor": "white",
           "zerolinewidth": 2
          }
         }
        },
        "title": {
         "text": "Cumulative Payments Over Time"
        },
        "xaxis": {
         "anchor": "y",
         "domain": [
          0,
          1
         ],
         "title": {
          "text": "Year"
         }
        },
        "yaxis": {
         "anchor": "x",
         "domain": [
          0,
          1
         ],
         "title": {
          "text": "value"
         }
        }
       }
      }
     },
     "metadata": {},
     "output_type": "display_data"
    }
   ],
   "source": [
    "def interactive_amortization_plot(p, r, N, n, new_r, new_n, c, co):\n",
    "    \n",
    "    '''\n",
    "    Generate an interactive amortization plot comparing the cumulative payments of current and new mortgage plans.\n",
    "    '''\n",
    "    \n",
    "    refinance_results = mortgage_refinance_calculation(p, r, N, n, new_r, new_n, c, co)\n",
    "    outstanding_principal_balance = refinance_results['outstanding_principal_balance_adjusted'] - co\n",
    "    \n",
    "    current_schedule_df = loan_amortization_schedule(outstanding_principal_balance, r, n)\n",
    "    new_schedule_df = loan_amortization_schedule(outstanding_principal_balance, new_r, new_n)\n",
    "    \n",
    "    current_schedule_df['Year'] = ((current_schedule_df['Month'] - 1) / 12).astype(int) + 1\n",
    "    new_schedule_df['Year'] = ((new_schedule_df['Month'] - 1) / 12).astype(int) + 1\n",
    "    \n",
    "    current_grouped = current_schedule_df.groupby('Year').last()\n",
    "    new_grouped = new_schedule_df.groupby('Year').last()\n",
    "    \n",
    "    merged_df = pd.concat([current_grouped.rename(columns = {'Cumulative Payment': 'Current Cumulative Payment', \n",
    "                                                             'Cumulative Interest Payment': 'Current Cumulative Interest Payment',\n",
    "                                                             'Cumulative Principal Payment': 'Current Cumulative Principal Payment'}),\n",
    "                           new_grouped.rename(columns = {'Cumulative Payment': 'New Cumulative Payment', \n",
    "                                                         'Cumulative Interest Payment': 'New Cumulative Interest Payment',\n",
    "                                                         'Cumulative Principal Payment': 'New Cumulative Principal Payment'})], axis = 1).reset_index()\n",
    "\n",
    "    fig = px.line(merged_df, x = 'Year', y = ['Current Cumulative Payment', 'New Cumulative Payment'], \n",
    "                  title = 'Cumulative Payments Over Time')\n",
    "\n",
    "    # Hover data\n",
    "    fig.update_traces(hoverinfo = 'all', hovertemplate = \n",
    "                      \"Year: %{x}<br>\" +\n",
    "                      \"Cumulative Payment: %{y:$}<br>\" +\n",
    "                      \"Cumulative Interest Payment: %{customdata[0]:$}<br>\" +\n",
    "                      \"Cumulative Principal Payment: %{customdata[1]:$}\"\n",
    "                      )\n",
    "    \n",
    "    fig.data[0]['customdata'] = merged_df[['Current Cumulative Interest Payment', 'Current Cumulative Principal Payment']].values\n",
    "    fig.data[1]['customdata'] = merged_df[['New Cumulative Interest Payment', 'New Cumulative Principal Payment']].values\n",
    "\n",
    "    return fig\n",
    "\n",
    "interactive_amortization_plot(p, r, N, n, new_r, new_n, c, co)"
   ]
  },
  {
   "cell_type": "code",
   "execution_count": null,
   "metadata": {},
   "outputs": [],
   "source": []
  }
 ],
 "metadata": {
  "kernelspec": {
   "display_name": "base",
   "language": "python",
   "name": "python3"
  },
  "language_info": {
   "codemirror_mode": {
    "name": "ipython",
    "version": 3
   },
   "file_extension": ".py",
   "mimetype": "text/x-python",
   "name": "python",
   "nbconvert_exporter": "python",
   "pygments_lexer": "ipython3",
   "version": "3.8.9"
  },
  "orig_nbformat": 4
 },
 "nbformat": 4,
 "nbformat_minor": 2
}
